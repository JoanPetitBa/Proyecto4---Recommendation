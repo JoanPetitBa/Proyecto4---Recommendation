{
 "cells": [
  {
   "cell_type": "markdown",
   "metadata": {},
   "source": [
    "CARGAR LOS DATOS"
   ]
  },
  {
   "cell_type": "code",
   "execution_count": 2,
   "metadata": {},
   "outputs": [
    {
     "name": "stdout",
     "output_type": "stream",
     "text": [
      "Index(['order_id', 'user_id', 'eval_set', 'order_number', 'order_dow',\n",
      "       'order_hour_of_day', 'days_since_prior_order'],\n",
      "      dtype='object')\n",
      "Index(['order_id', 'product_id', 'add_to_cart_order', 'reordered'], dtype='object')\n",
      "Index(['order_id', 'product_id', 'add_to_cart_order', 'reordered'], dtype='object')\n",
      "Index(['product_id', 'product_name', 'aisle_id', 'department_id'], dtype='object')\n"
     ]
    }
   ],
   "source": [
    "import pandas as pd\n",
    "\n",
    "orders  = pd.read_csv(r'data\\orders.csv')\n",
    "order_products_prior = pd.read_csv(r'data\\order_products__prior.csv')\n",
    "order_products_train = pd.read_csv(r'data\\order_products__train.csv')\n",
    "products = pd.read_csv(r'data\\products.csv')\n",
    "\n",
    "print(orders.columns)\n",
    "print(order_products_prior.columns)\n",
    "print(order_products_train.columns)\n",
    "print(products.columns)"
   ]
  },
  {
   "cell_type": "markdown",
   "metadata": {},
   "source": [
    "HACER UN MERGE DE LOS CSV"
   ]
  },
  {
   "cell_type": "code",
   "execution_count": 3,
   "metadata": {},
   "outputs": [
    {
     "data": {
      "text/html": [
       "<div>\n",
       "<style scoped>\n",
       "    .dataframe tbody tr th:only-of-type {\n",
       "        vertical-align: middle;\n",
       "    }\n",
       "\n",
       "    .dataframe tbody tr th {\n",
       "        vertical-align: top;\n",
       "    }\n",
       "\n",
       "    .dataframe thead th {\n",
       "        text-align: right;\n",
       "    }\n",
       "</style>\n",
       "<table border=\"1\" class=\"dataframe\">\n",
       "  <thead>\n",
       "    <tr style=\"text-align: right;\">\n",
       "      <th></th>\n",
       "      <th>order_id</th>\n",
       "      <th>product_id</th>\n",
       "      <th>add_to_cart_order</th>\n",
       "      <th>reordered</th>\n",
       "      <th>product_name</th>\n",
       "      <th>aisle_id</th>\n",
       "      <th>department_id</th>\n",
       "      <th>order_dow</th>\n",
       "      <th>order_hour_of_day</th>\n",
       "    </tr>\n",
       "  </thead>\n",
       "  <tbody>\n",
       "    <tr>\n",
       "      <th>0</th>\n",
       "      <td>2</td>\n",
       "      <td>33120</td>\n",
       "      <td>1</td>\n",
       "      <td>1</td>\n",
       "      <td>Organic Egg Whites</td>\n",
       "      <td>86</td>\n",
       "      <td>16</td>\n",
       "      <td>5</td>\n",
       "      <td>9</td>\n",
       "    </tr>\n",
       "    <tr>\n",
       "      <th>1</th>\n",
       "      <td>2</td>\n",
       "      <td>28985</td>\n",
       "      <td>2</td>\n",
       "      <td>1</td>\n",
       "      <td>Michigan Organic Kale</td>\n",
       "      <td>83</td>\n",
       "      <td>4</td>\n",
       "      <td>5</td>\n",
       "      <td>9</td>\n",
       "    </tr>\n",
       "    <tr>\n",
       "      <th>2</th>\n",
       "      <td>2</td>\n",
       "      <td>9327</td>\n",
       "      <td>3</td>\n",
       "      <td>0</td>\n",
       "      <td>Garlic Powder</td>\n",
       "      <td>104</td>\n",
       "      <td>13</td>\n",
       "      <td>5</td>\n",
       "      <td>9</td>\n",
       "    </tr>\n",
       "    <tr>\n",
       "      <th>3</th>\n",
       "      <td>2</td>\n",
       "      <td>45918</td>\n",
       "      <td>4</td>\n",
       "      <td>1</td>\n",
       "      <td>Coconut Butter</td>\n",
       "      <td>19</td>\n",
       "      <td>13</td>\n",
       "      <td>5</td>\n",
       "      <td>9</td>\n",
       "    </tr>\n",
       "    <tr>\n",
       "      <th>4</th>\n",
       "      <td>2</td>\n",
       "      <td>30035</td>\n",
       "      <td>5</td>\n",
       "      <td>0</td>\n",
       "      <td>Natural Sweetener</td>\n",
       "      <td>17</td>\n",
       "      <td>13</td>\n",
       "      <td>5</td>\n",
       "      <td>9</td>\n",
       "    </tr>\n",
       "  </tbody>\n",
       "</table>\n",
       "</div>"
      ],
      "text/plain": [
       "   order_id  product_id  add_to_cart_order  reordered           product_name  \\\n",
       "0         2       33120                  1          1     Organic Egg Whites   \n",
       "1         2       28985                  2          1  Michigan Organic Kale   \n",
       "2         2        9327                  3          0          Garlic Powder   \n",
       "3         2       45918                  4          1         Coconut Butter   \n",
       "4         2       30035                  5          0      Natural Sweetener   \n",
       "\n",
       "   aisle_id  department_id  order_dow  order_hour_of_day  \n",
       "0        86             16          5                  9  \n",
       "1        83              4          5                  9  \n",
       "2       104             13          5                  9  \n",
       "3        19             13          5                  9  \n",
       "4        17             13          5                  9  "
      ]
     },
     "execution_count": 3,
     "metadata": {},
     "output_type": "execute_result"
    }
   ],
   "source": [
    "order_products = pd.concat([order_products_prior, order_products_train])\n",
    "\n",
    "order_products = order_products.merge(products, on=\"product_id\", how=\"left\")\n",
    "\n",
    "order_products = order_products.merge(orders[['order_id', 'order_dow', 'order_hour_of_day']], on=\"order_id\", how=\"left\")\n",
    "\n",
    "order_products.head()"
   ]
  },
  {
   "cell_type": "markdown",
   "metadata": {},
   "source": [
    "FILTRAR LOS PRODUCTOS MÁS POPULARES"
   ]
  },
  {
   "cell_type": "code",
   "execution_count": 4,
   "metadata": {},
   "outputs": [],
   "source": [
    "# Contar cuántas veces aparece cada producto\n",
    "product_counts = order_products['product_id'].value_counts()\n",
    "\n",
    "# Filtrar productos que aparecen en al menos 500 compras (puedes ajustar este número)\n",
    "popular_products = product_counts[product_counts > 500].index\n",
    "\n",
    "# Filtrar el dataset para trabajar solo con los productos más comprados\n",
    "order_products_filtered = order_products[order_products['product_id'].isin(popular_products)]"
   ]
  },
  {
   "cell_type": "markdown",
   "metadata": {},
   "source": [
    "LIMITAR EL NÚMERO DE TRANSACCIONES"
   ]
  },
  {
   "cell_type": "code",
   "execution_count": 5,
   "metadata": {},
   "outputs": [],
   "source": [
    "# Tomar una muestra de 500,000 órdenes para reducir memoria\n",
    "sample_orders = order_products_filtered['order_id'].sample(n=100000, random_state=42)\n",
    "\n",
    "# Filtrar las órdenes en la muestra\n",
    "order_sample = order_products_filtered[order_products_filtered['order_id'].isin(sample_orders)]"
   ]
  },
  {
   "cell_type": "markdown",
   "metadata": {},
   "source": [
    "CREAR LA MATRIZ DE TRANSACCIONES CON One-Hot Encoding"
   ]
  },
  {
   "cell_type": "code",
   "execution_count": 6,
   "metadata": {},
   "outputs": [],
   "source": [
    "from scipy.sparse import coo_matrix\n",
    "\n",
    "# Eliminar duplicados (producto por orden)\n",
    "order_sample_filtered = order_sample.drop_duplicates(subset=['order_id', 'product_name'])\n",
    "\n",
    "# Crear la matriz dispersa (sparse matrix)\n",
    "product_to_id = {product: idx for idx, product in enumerate(order_sample_filtered['product_name'].unique())}\n",
    "order_sample_filtered['product_id_num'] = order_sample_filtered['product_name'].map(product_to_id)\n",
    "\n",
    "row = order_sample_filtered['order_id'].astype('category').cat.codes\n",
    "col = order_sample_filtered['product_id_num']\n",
    "data = [1] * len(order_sample_filtered)\n",
    "\n",
    "# Crear la matriz dispersa\n",
    "basket_sparse = coo_matrix((data, (row, col)), shape=(order_sample_filtered['order_id'].nunique(), len(product_to_id)))"
   ]
  },
  {
   "cell_type": "markdown",
   "metadata": {},
   "source": [
    "APLICAR EL ALGORITMO APRIORI"
   ]
  },
  {
   "cell_type": "code",
   "execution_count": null,
   "metadata": {},
   "outputs": [
    {
     "name": "stderr",
     "output_type": "stream",
     "text": [
      "C:\\Users\\joant\\AppData\\Local\\Temp\\ipykernel_4572\\691805405.py:6: FutureWarning: DataFrame.applymap has been deprecated. Use DataFrame.map instead.\n",
      "  basket_df = basket_df.applymap(lambda x: 1 if x > 0 else 0)\n",
      "C:\\Users\\joant\\AppData\\Local\\Packages\\PythonSoftwareFoundation.Python.3.11_qbz5n2kfra8p0\\LocalCache\\local-packages\\Python311\\site-packages\\mlxtend\\frequent_patterns\\fpcommon.py:161: DeprecationWarning: DataFrames with non-bool types result in worse computationalperformance and their support might be discontinued in the future.Please use a DataFrame with bool type\n",
      "  warnings.warn(\n"
     ]
    }
   ],
   "source": [
    "from mlxtend.frequent_patterns import apriori, association_rules\n",
    "\n",
    "basket_df = pd.DataFrame.sparse.from_spmatrix(basket_sparse, columns=product_to_id.keys())\n",
    "\n",
    "# Convertir los valores de la matriz en binarios (1 si el producto fue comprado, 0 si no)\n",
    "basket_df = basket_df.applymap(lambda x: 1 if x > 0 else 0)\n",
    "\n",
    "# Aplicar Apriori para obtener los conjuntos frecuentes\n",
    "frequent_itemsets = apriori(basket_df, min_support=0.01, use_colnames=True)\n",
    "\n",
    "# Generar reglas de asociación\n",
    "rules = association_rules(frequent_itemsets, metric=\"lift\", min_threshold=1)"
   ]
  },
  {
   "cell_type": "markdown",
   "metadata": {},
   "source": [
    "FILTRAR REGLAS POR LAS MAS CONFIABLES"
   ]
  },
  {
   "cell_type": "code",
   "execution_count": 12,
   "metadata": {},
   "outputs": [],
   "source": [
    "confidence = 0.25\n",
    "\n",
    "rules_sorted = rules.sort_values(by=['support', 'confidence', 'lift'], ascending=[False, False, False])\n",
    "\n",
    "rules_filtered = rules_sorted[rules_sorted['confidence'] > confidence]\n",
    "\n",
    "\n",
    "rules_filtered.to_csv(f'filtered_rules_{confidence}.csv',index=False)\n",
    "rules_sorted.to_csv('sorted_rules.csv',index=False)"
   ]
  }
 ],
 "metadata": {
  "kernelspec": {
   "display_name": "Python 3",
   "language": "python",
   "name": "python3"
  },
  "language_info": {
   "codemirror_mode": {
    "name": "ipython",
    "version": 3
   },
   "file_extension": ".py",
   "mimetype": "text/x-python",
   "name": "python",
   "nbconvert_exporter": "python",
   "pygments_lexer": "ipython3",
   "version": "3.11.9"
  }
 },
 "nbformat": 4,
 "nbformat_minor": 2
}
