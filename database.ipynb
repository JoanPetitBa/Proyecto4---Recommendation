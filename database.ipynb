{
 "cells": [
  {
   "cell_type": "code",
   "execution_count": 1,
   "metadata": {},
   "outputs": [],
   "source": [
    "import sqlite3\n",
    "import pandas as pd\n",
    "\n",
    "conn = sqlite3.connect(\"market_place.db\")\n",
    "\n",
    "cursor = conn.cursor()"
   ]
  },
  {
   "cell_type": "code",
   "execution_count": null,
   "metadata": {},
   "outputs": [],
   "source": [
    "cursor.execute(\n",
    "    \"\"\"\n",
    "    CREATE TABLE IF NOT EXISTS aisles (\n",
    "        aisle_id INT PRIMARY KEY,\n",
    "        aisle_name TEXT NOT NULL\n",
    "    )\n",
    "    \"\"\"\n",
    ")\n",
    "\n",
    "cursor.execute(\n",
    "    \"\"\"\n",
    "    CREATE TABLE IF NOT EXISTS departments (\n",
    "        department_id INT PRIMARY KEY,\n",
    "        department_name TEXT NOT NULL\n",
    "    )\n",
    "    \"\"\"\n",
    ")\n",
    "\n",
    "cursor.execute(\n",
    "    \"\"\"\n",
    "    CREATE TABLE IF NOT EXISTS products (\n",
    "        product_id INT PRIMARY KEY,\n",
    "        product_name TEXT NOT NULL,\n",
    "        aisle_id INT NOT NULL,\n",
    "        department_id INT NOT NULL\n",
    "        FOREIGN KEY (aisle_id) REFERENCES aisles(aisle_id),\n",
    "        FOREIGN KEY (department_id) REFERENCES departments(department_id)\n",
    "    )\n",
    "    \"\"\"\n",
    ")\n",
    "\n",
    "cursor.execute(\n",
    "    \"\"\"\n",
    "    CREATE TABLE IF NOT EXISTS orders (\n",
    "        order_id INT NOT NULL,\n",
    "        user_id INT NOT NULL,\n",
    "        product_id INT NOT NULL,\n",
    "        add_to_cart_order INT NOT NULL,\n",
    "        reordered INT NOT NULL,\n",
    "        order_number INT NOT NULL,\n",
    "        order_dow INT NOT NULL,\n",
    "        order_hour_of_day INT NOT NULL,\n",
    "        days_since_prio_order INT NOT NULL\n",
    "        PRIMARY KEY (order_id,user_id,product_id)\n",
    "        FOREIGN KEY (product_id) REFERENCES products(product_id)\n",
    "    )\n",
    "    \"\"\"\n",
    ")\n",
    "\n",
    "conn.commit()"
   ]
  },
  {
   "cell_type": "code",
   "execution_count": 2,
   "metadata": {},
   "outputs": [
    {
     "name": "stdout",
     "output_type": "stream",
     "text": [
      "aisle_id    0\n",
      "aisle       0\n",
      "dtype: int64 \n",
      "\n",
      "department_id    0\n",
      "department       0\n",
      "dtype: int64 \n",
      "\n",
      "product_id       0\n",
      "product_name     0\n",
      "aisle_id         0\n",
      "department_id    0\n",
      "dtype: int64 \n",
      "\n",
      "order_id                        0\n",
      "user_id                         0\n",
      "eval_set                        0\n",
      "order_number                    0\n",
      "order_dow                       0\n",
      "order_hour_of_day               0\n",
      "days_since_prior_order    2078068\n",
      "product_id                      0\n",
      "add_to_cart_order               0\n",
      "reordered                       0\n",
      "dtype: int64 \n",
      "\n"
     ]
    }
   ],
   "source": [
    "aisles = pd.read_csv(r\"data\\aisles.csv\", sep=\",\")\n",
    "departments = pd.read_csv(r\"data\\departments.csv\", sep=\",\")\n",
    "products = pd.read_csv(r\"data\\products.csv\", sep=\",\")\n",
    "orders = pd.read_csv(r\"data\\merged_orders.csv\", sep=\",\")\n",
    "\n",
    "print(aisles.isna().sum(), \"\\n\")\n",
    "print(departments.isna().sum(), \"\\n\")\n",
    "print(products.isna().sum(), \"\\n\")\n",
    "print(orders.isna().sum(), \"\\n\")"
   ]
  },
  {
   "cell_type": "code",
   "execution_count": 3,
   "metadata": {},
   "outputs": [],
   "source": [
    "# Calcular la media de 'days_since_prior_order' por usuario\n",
    "mean_days_per_user = orders.groupby('user_id')['days_since_prior_order'].transform('mean')\n",
    "\n",
    "# Reemplazar los valores NaN con la media de cada usuario\n",
    "orders['days_since_prior_order'] = orders['days_since_prior_order'].fillna(mean_days_per_user).astype(int)\n",
    "\n",
    "orders.to_csv(\"data\\orders_not_nulls.csv\", index=False)"
   ]
  }
 ],
 "metadata": {
  "kernelspec": {
   "display_name": "Python 3",
   "language": "python",
   "name": "python3"
  },
  "language_info": {
   "codemirror_mode": {
    "name": "ipython",
    "version": 3
   },
   "file_extension": ".py",
   "mimetype": "text/x-python",
   "name": "python",
   "nbconvert_exporter": "python",
   "pygments_lexer": "ipython3",
   "version": "3.11.9"
  }
 },
 "nbformat": 4,
 "nbformat_minor": 2
}
