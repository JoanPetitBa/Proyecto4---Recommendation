{
 "cells": [
  {
   "cell_type": "code",
   "execution_count": 3,
   "metadata": {},
   "outputs": [],
   "source": [
    "import sqlite3\n",
    "import pandas as pd\n",
    "\n",
    "conn = sqlite3.connect(r\"db\\market_place.db\")\n",
    "\n",
    "cursor = conn.cursor()"
   ]
  },
  {
   "cell_type": "code",
   "execution_count": null,
   "metadata": {},
   "outputs": [
    {
     "name": "stdout",
     "output_type": "stream",
     "text": [
      "aisle_id    0\n",
      "aisle       0\n",
      "dtype: int64 \n",
      "\n",
      "department_id    0\n",
      "department       0\n",
      "dtype: int64 \n",
      "\n",
      "product_id       0\n",
      "product_name     0\n",
      "aisle_id         0\n",
      "department_id    0\n",
      "dtype: int64 \n",
      "\n",
      "order_id                       0\n",
      "user_id                        0\n",
      "eval_set                       0\n",
      "order_number                   0\n",
      "order_dow                      0\n",
      "order_hour_of_day              0\n",
      "days_since_prior_order    206209\n",
      "dtype: int64 \n",
      "\n"
     ]
    }
   ],
   "source": [
    "aisles = pd.read_csv(r\"data\\aisles.csv\", sep=\",\")\n",
    "departments = pd.read_csv(r\"data\\departments.csv\", sep=\",\")\n",
    "products = pd.read_csv(r\"data\\products.csv\", sep=\",\")\n",
    "orders = pd.read_csv(r\"data\\orders_with_nulls.csv\", sep=\",\")\n",
    "\n",
    "print(aisles.isna().sum(), \"\\n\")\n",
    "print(departments.isna().sum(), \"\\n\")\n",
    "print(products.isna().sum(), \"\\n\")\n",
    "print(orders.isna().sum(), \"\\n\")"
   ]
  },
  {
   "cell_type": "code",
   "execution_count": 3,
   "metadata": {},
   "outputs": [],
   "source": [
    "# Calcular la media de 'days_since_prior_order' por usuario\n",
    "mean_days_per_user = orders.groupby('user_id')['days_since_prior_order'].transform('mean')\n",
    "\n",
    "# Reemplazar los valores NaN con la media de cada usuario\n",
    "orders['days_since_prior_order'] = orders['days_since_prior_order'].fillna(mean_days_per_user).astype(int)\n",
    "\n",
    "orders.to_csv(\"data\\orders_not_nulls.csv\", index=False)"
   ]
  },
  {
   "cell_type": "code",
   "execution_count": 4,
   "metadata": {},
   "outputs": [],
   "source": [
    "cursor.execute(\n",
    "    \"\"\"\n",
    "    CREATE TABLE IF NOT EXISTS aisles (\n",
    "        aisle_id INT PRIMARY KEY,\n",
    "        aisle_name TEXT NOT NULL\n",
    "    )\n",
    "    \"\"\"\n",
    ")\n",
    "\n",
    "cursor.execute(\n",
    "    \"\"\"\n",
    "    CREATE TABLE IF NOT EXISTS departments (\n",
    "        department_id INT PRIMARY KEY,\n",
    "        department_name TEXT NOT NULL\n",
    "    )\n",
    "    \"\"\"\n",
    ")\n",
    "\n",
    "cursor.execute(\n",
    "    \"\"\"\n",
    "    CREATE TABLE IF NOT EXISTS products (\n",
    "        product_id INT PRIMARY KEY,\n",
    "        product_name TEXT NOT NULL,\n",
    "        aisle_id INT NOT NULL,\n",
    "        department_id INT NOT NULL,\n",
    "        FOREIGN KEY (aisle_id) REFERENCES aisles(aisle_id),\n",
    "        FOREIGN KEY (department_id) REFERENCES departments(department_id)\n",
    "    )\n",
    "    \"\"\"\n",
    ")\n",
    "\n",
    "cursor.execute(\n",
    "    \"\"\"\n",
    "    CREATE TABLE IF NOT EXISTS users (\n",
    "        user_id INT PRIMARY KEY,\n",
    "        n_compras INT NOT NULL,\n",
    "        last_order_date INT NOT NULL,\n",
    "        mean_time_bt_orders INT NOT NULL,\n",
    "        segment TEXT NOT NULL\n",
    "    )\n",
    "    \"\"\"\n",
    ")\n",
    "\n",
    "cursor.execute(\n",
    "    \"\"\"\n",
    "    CREATE TABLE IF NOT EXISTS orders (\n",
    "        order_id INT NOT NULL,\n",
    "        user_id INT NOT NULL,\n",
    "        product_id INT NOT NULL,\n",
    "        add_to_cart_order INT NOT NULL,\n",
    "        reordered INT NOT NULL,\n",
    "        order_number INT NOT NULL,\n",
    "        order_dow INT NOT NULL,\n",
    "        order_hour_of_day INT NOT NULL,\n",
    "        days_since_prio_order INT NOT NULL,\n",
    "        PRIMARY KEY (order_id,user_id,product_id),\n",
    "        FOREIGN KEY (product_id) REFERENCES products(product_id)\n",
    "    )\n",
    "    \"\"\"\n",
    ")\n",
    "\n",
    "conn.commit()"
   ]
  },
  {
   "cell_type": "code",
   "execution_count": null,
   "metadata": {},
   "outputs": [
    {
     "data": {
      "text/plain": [
       "206210"
      ]
     },
     "execution_count": 7,
     "metadata": {},
     "output_type": "execute_result"
    }
   ],
   "source": [
    "# Inserta los datos en la base de datos\n",
    "users = pd.read_csv(r\"data\\segmented_users.csv\", sep=\",\")\n",
    "\n",
    "# PASAR A MINUSCULAS TODOS LOS NOMBRES DE PRODUCTOS\n",
    "products['product_name'] = products['product_name'].str.lower()\n",
    "products['product_name'] = products['product_name'].str.replace('\"', '', regex=False)\n",
    "products['product_name'] = products['product_name'].str.replace(r\"[^a-z0-9' ]\", \"\", regex=True)\n",
    "products = products.drop_duplicates(subset=['product_name', 'aisle_id', 'department_id'], keep='first')\n",
    "\n",
    "\n",
    "aisles.to_sql(\"aisles\", conn, if_exists=\"append\", index=False)\n",
    "departments.to_sql(\"departments\", conn, if_exists=\"append\", index=False)\n",
    "products.to_sql(\"products\", conn, if_exists=\"append\", index=False)\n",
    "users.to_sql(\"users\", conn, if_exists=\"append\", index=False)\n",
    "\n",
    "chunk_size = 10000\n",
    "total = len(orders)\n",
    "for i in range(0, total, chunk_size):\n",
    "    chunk = orders.iloc[i:i+chunk_size]\n",
    "    chunk.to_sql(\"orders\", conn, if_exists=\"append\", index=False)\n",
    "    print(f\"Inserted rows {i} to {i + len(chunk) - 1}\")\n",
    "\n",
    "\n"
   ]
  }
 ],
 "metadata": {
  "kernelspec": {
   "display_name": "Python 3",
   "language": "python",
   "name": "python3"
  },
  "language_info": {
   "codemirror_mode": {
    "name": "ipython",
    "version": 3
   },
   "file_extension": ".py",
   "mimetype": "text/x-python",
   "name": "python",
   "nbconvert_exporter": "python",
   "pygments_lexer": "ipython3",
   "version": "3.11.9"
  }
 },
 "nbformat": 4,
 "nbformat_minor": 2
}
