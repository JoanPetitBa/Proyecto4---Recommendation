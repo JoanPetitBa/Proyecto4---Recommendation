{
 "cells": [
  {
   "cell_type": "code",
   "execution_count": 3,
   "metadata": {},
   "outputs": [],
   "source": [
    "import sqlite3\n",
    "import pandas as pd\n",
    "\n",
    "conn = sqlite3.connect(r\"db\\market_place.db\")\n",
    "\n",
    "cursor = conn.cursor()"
   ]
  },
  {
   "cell_type": "code",
   "execution_count": 2,
   "metadata": {},
   "outputs": [
    {
     "name": "stdout",
     "output_type": "stream",
     "text": [
      "NULOS POR TABLA\n",
      "aisle_id      0\n",
      "aisle_name    0\n",
      "dtype: int64 \n",
      "\n",
      "department_id      0\n",
      "department_name    0\n",
      "dtype: int64 \n",
      "\n",
      "product_id       0\n",
      "product_name     0\n",
      "aisle_id         0\n",
      "department_id    0\n",
      "dtype: int64 \n",
      "\n",
      "order_id                       0\n",
      "user_id                        0\n",
      "eval_set                       0\n",
      "order_number                   0\n",
      "order_dow                      0\n",
      "order_hour_of_day              0\n",
      "days_since_prior_order    206209\n",
      "dtype: int64 \n",
      "\n",
      "VALORES UNICOS EN ID\n",
      "Series([], Name: count, dtype: int64)\n",
      "Series([], Name: count, dtype: int64)\n",
      "Series([], Name: count, dtype: int64)\n"
     ]
    }
   ],
   "source": [
    "aisles = pd.read_csv(r\"data\\aisles.csv\", sep=\",\")\n",
    "departments = pd.read_csv(r\"data\\departments.csv\", sep=\",\")\n",
    "products = pd.read_csv(r\"data\\products.csv\", sep=\",\")\n",
    "orders = pd.read_csv(r\"data\\orders_with_nulls.csv\", sep=\",\")\n",
    "\n",
    "print(\"NULOS POR TABLA\")\n",
    "print(aisles.isna().sum(), \"\\n\")\n",
    "print(departments.isna().sum(), \"\\n\")\n",
    "print(products.isna().sum(), \"\\n\")\n",
    "print(orders.isna().sum(), \"\\n\")\n",
    "\n",
    "print(\"VALORES UNICOS EN ID\")\n",
    "print(aisles['aisle_id'].value_counts()[aisles['aisle_id'].value_counts() > 1])\n",
    "print(departments['department_id'].value_counts()[departments['department_id'].value_counts() > 1])\n",
    "print(products['product_id'].value_counts()[products['product_id'].value_counts() > 1])"
   ]
  },
  {
   "cell_type": "code",
   "execution_count": 3,
   "metadata": {},
   "outputs": [],
   "source": [
    "# Calcular la media de 'days_since_prior_order' por usuario\n",
    "mean_days_per_user = orders.groupby('user_id')['days_since_prior_order'].transform('mean')\n",
    "\n",
    "# Reemplazar los valores NaN con la media de cada usuario\n",
    "orders['days_since_prior_order'] = orders['days_since_prior_order'].fillna(mean_days_per_user).astype(int)\n",
    "\n",
    "orders.to_csv(\"data\\orders_not_nulls.csv\", index=False)"
   ]
  },
  {
   "cell_type": "markdown",
   "metadata": {},
   "source": [
    "CREAR UN UNIC ORDERS AMB PRIOR I TRAIN SENSE NULS"
   ]
  },
  {
   "cell_type": "code",
   "execution_count": null,
   "metadata": {},
   "outputs": [],
   "source": [
    "orders_prior = pd.read_csv(r\"data\\order_products__prior.csv\", sep=\",\")\n",
    "orders_train = pd.read_csv(r\"data\\order_products__train.csv\", sep=\",\")\n",
    "\n",
    "order_products = pd.concat([orders_prior, orders_train], ignore_index=True)\n",
    "\n",
    "# Hacer merge con la tabla de órdenes\n",
    "merged = pd.merge(order_products, orders, on='order_id', how='left')\n",
    "\n",
    "merged.to_csv('data/final_orders.csv', index=False)"
   ]
  },
  {
   "cell_type": "markdown",
   "metadata": {},
   "source": [
    "cursor.execute(\n",
    "    \"\"\"\n",
    "    CREATE TABLE IF NOT EXISTS aisles (\n",
    "        aisle_id INT PRIMARY KEY,\n",
    "        aisle_name TEXT NOT NULL\n",
    "    )\n",
    "    \"\"\"\n",
    ")\n",
    "\n",
    "cursor.execute(\n",
    "    \"\"\"\n",
    "    CREATE TABLE IF NOT EXISTS departments (\n",
    "        department_id INT PRIMARY KEY,\n",
    "        department_name TEXT NOT NULL\n",
    "    )\n",
    "    \"\"\"\n",
    ")\n",
    "\n",
    "cursor.execute(\n",
    "    \"\"\"\n",
    "    CREATE TABLE IF NOT EXISTS products (\n",
    "        product_id INT PRIMARY KEY,\n",
    "        product_name TEXT NOT NULL,\n",
    "        aisle_id INT NOT NULL,\n",
    "        department_id INT NOT NULL,\n",
    "        FOREIGN KEY (aisle_id) REFERENCES aisles(aisle_id),\n",
    "        FOREIGN KEY (department_id) REFERENCES departments(department_id)\n",
    "    )\n",
    "    \"\"\"\n",
    ")\n",
    "\n",
    "cursor.execute(\n",
    "    \"\"\"\n",
    "    CREATE TABLE IF NOT EXISTS users (\n",
    "        user_id INT PRIMARY KEY,\n",
    "        n_compras INT NOT NULL,\n",
    "        last_order_date INT NOT NULL,\n",
    "        mean_time_bt_orders INT NOT NULL,\n",
    "        segment TEXT NOT NULL\n",
    "    )\n",
    "    \"\"\"\n",
    ")\n",
    "\n",
    "cursor.execute(\n",
    "    \"\"\"\n",
    "    CREATE TABLE IF NOT EXISTS orders (\n",
    "        order_id INT NOT NULL,\n",
    "        user_id INT NOT NULL,\n",
    "        product_id INT NOT NULL,\n",
    "        add_to_cart_order INT NOT NULL,\n",
    "        reordered INT NOT NULL,\n",
    "        order_number INT NOT NULL,\n",
    "        order_dow INT NOT NULL,\n",
    "        order_hour_of_day INT NOT NULL,\n",
    "        days_since_prio_order INT NOT NULL,\n",
    "        PRIMARY KEY (order_id,user_id,product_id),\n",
    "        FOREIGN KEY (product_id) REFERENCES products(product_id)\n",
    "    )\n",
    "    \"\"\"\n",
    ")\n",
    "\n",
    "CREATE TABLE IF NOT EXISTS svd_predictions (\n",
    "    user_id INTEGER,\n",
    "    product_id INTEGER,\n",
    "    score REAL,    \n",
    "    PRIMARY KEY (user_id, product_id)\n",
    ")\n",
    "\n",
    "conn.commit()"
   ]
  },
  {
   "cell_type": "code",
   "execution_count": null,
   "metadata": {},
   "outputs": [
    {
     "data": {
      "text/plain": [
       "206210"
      ]
     },
     "execution_count": 4,
     "metadata": {},
     "output_type": "execute_result"
    }
   ],
   "source": [
    "# Inserta los datos en la base de datos\n",
    "users = pd.read_csv(r\"data\\segmented_users.csv\", sep=\",\")\n",
    "#merged = pd.read_csv(r\"data\\final_orders.csv\", sep=\",\")\n",
    "\n",
    "# PASAR A MINUSCULAS TODOS LOS NOMBRES DE PRODUCTOS\n",
    "products['product_name'] = products['product_name'].str.lower()\n",
    "products['product_name'] = products['product_name'].str.replace('\"', '', regex=False)\n",
    "products['product_name'] = products['product_name'].str.replace(r\"[^a-z0-9' ]\", \"\", regex=True)\n",
    "products = products.drop_duplicates(subset=['product_name', 'aisle_id', 'department_id'], keep='first')\n",
    "\n",
    "\n",
    "aisles.to_sql(\"aisles\", conn, if_exists=\"append\", index=False)\n",
    "departments.to_sql(\"departments\", conn, if_exists=\"append\", index=False)\n",
    "products.to_sql(\"products\", conn, if_exists=\"append\", index=False)\n",
    "users.to_sql(\"users\", conn, if_exists=\"append\", index=False)\n",
    "\n",
    "chunk_size = 10000\n",
    "total = len(merged)\n",
    "for i in range(0, total, chunk_size):\n",
    "    chunk = merged.iloc[i:i+chunk_size]\n",
    "    chunk.to_sql(\"orders\", conn, if_exists=\"append\", index=False)\n",
    "    print(f\"Inserted rows {i} to {i + len(chunk) - 1}\")\n",
    "\n",
    "\n"
   ]
  },
  {
   "cell_type": "markdown",
   "metadata": {},
   "source": [
    "## GENERAR MODELOS POR SEGMENTO"
   ]
  },
  {
   "cell_type": "markdown",
   "metadata": {},
   "source": [
    "Generar modelos e insertar los valores en la base de datos"
   ]
  },
  {
   "cell_type": "code",
   "execution_count": 3,
   "metadata": {},
   "outputs": [],
   "source": [
    "import joblib\n",
    "\n",
    "usuarios = pd.read_sql_query(\"SELECT user_id, segmento FROM users\", conn)\n",
    "productos_top = pd.read_sql_query(\n",
    "    \"SELECT product_id FROM orders GROUP BY product_id ORDER BY COUNT(*) DESC LIMIT 500\", conn\n",
    ")['product_id'].tolist()\n",
    "\n",
    "# Crear tabla si no existe\n",
    "conn.execute(\"\"\"\n",
    "CREATE TABLE IF NOT EXISTS svd_predictions (\n",
    "    user_id INTEGER,\n",
    "    product_id INTEGER,\n",
    "    score REAL,\n",
    "    PRIMARY KEY (user_id, product_id)\n",
    ")\n",
    "\"\"\")\n",
    "\n",
    "# Predecir y guardar\n",
    "for segmento in usuarios['segmento'].unique():\n",
    "    model = joblib.load(f\"models/SVD/SVD_{segmento}.joblib\")\n",
    "    user_ids = usuarios[usuarios['segmento'] == segmento]['user_id']\n",
    "    for user_id in user_ids:\n",
    "        for pid in productos_top:\n",
    "            score = model.predict(user_id, pid).est\n",
    "            conn.execute(\n",
    "                \"INSERT OR REPLACE INTO svd_predictions (user_id, product_id, score) VALUES (?, ?, ?)\",\n",
    "                (user_id, pid, score)\n",
    "            )\n",
    "conn.commit()\n",
    "conn.close()"
   ]
  }
 ],
 "metadata": {
  "kernelspec": {
   "display_name": "Python 3",
   "language": "python",
   "name": "python3"
  },
  "language_info": {
   "codemirror_mode": {
    "name": "ipython",
    "version": 3
   },
   "file_extension": ".py",
   "mimetype": "text/x-python",
   "name": "python",
   "nbconvert_exporter": "python",
   "pygments_lexer": "ipython3",
   "version": "3.11.9"
  }
 },
 "nbformat": 4,
 "nbformat_minor": 2
}
