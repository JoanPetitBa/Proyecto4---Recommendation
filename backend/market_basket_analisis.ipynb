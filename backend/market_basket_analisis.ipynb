{
 "cells": [
  {
   "cell_type": "code",
   "execution_count": 1,
   "metadata": {},
   "outputs": [],
   "source": [
    "import pandas as pd\n",
    "import sqlite3\n",
    "import joblib\n",
    "from mlxtend.frequent_patterns import apriori, association_rules\n",
    "from mlxtend.preprocessing import TransactionEncoder\n",
    "\n",
    "# 📦 Conexión a la base de datos\n",
    "conn = sqlite3.connect(\"db/market_place.db\")\n",
    "\n",
    "# 📥 Cargar tabla de órdenes\n",
    "df_orders = pd.read_sql_query(\"SELECT order_id, product_id FROM orders\", conn)\n",
    "\n",
    "# 🧹 FILTRO 1: Eliminar productos poco frecuentes\n",
    "min_freq = 100  # puedes ajustar este valor\n",
    "frecuentes = df_orders['product_id'].value_counts()\n",
    "productos_validos = frecuentes[frecuentes >= min_freq].index\n",
    "df_filtrado = df_orders[df_orders['product_id'].isin(productos_validos)]\n",
    "\n",
    "# 🧹 FILTRO 2: Muestrear pedidos (si quieres limitar la escala)\n",
    "n_pedidos = 500_000\n",
    "pedidos_sample = df_filtrado['order_id'].drop_duplicates().sample(n=n_pedidos, random_state=42)\n",
    "df_sampled = df_filtrado[df_filtrado['order_id'].isin(pedidos_sample)]\n",
    "\n",
    "# 🧺 Agrupar productos por pedido\n",
    "basket = df_sampled.groupby('order_id')['product_id'].apply(list).reset_index()\n",
    "\n",
    "# 🧠 Transformar a formato booleano para Apriori\n",
    "te = TransactionEncoder()\n",
    "te_ary = te.fit(basket['product_id']).transform(basket['product_id'])\n",
    "\n",
    "df_basket = pd.DataFrame(te_ary, columns=te.columns_)\n"
   ]
  },
  {
   "cell_type": "code",
   "execution_count": 6,
   "metadata": {},
   "outputs": [],
   "source": [
    "# ⚙️ Algoritmo Apriori\n",
    "frequent_itemsets = apriori(df_basket, min_support=0.01, use_colnames=True)\n",
    "\n",
    "# 📏 Generar reglas de asociación\n",
    "rules = association_rules(frequent_itemsets, metric=\"lift\", min_threshold=1.0)"
   ]
  },
  {
   "cell_type": "code",
   "execution_count": 7,
   "metadata": {},
   "outputs": [
    {
     "name": "stdout",
     "output_type": "stream",
     "text": [
      "✅ Reglas generadas: 28 y guardadas con éxito.\n"
     ]
    }
   ],
   "source": [
    "# 💾 Guardar reglas entrenadas\n",
    "joblib.dump(rules, \"models/MBA/MBA_reglas_apriori.joblib\")\n",
    "print(f\"✅ Reglas generadas: {len(rules)} y guardadas con éxito.\")\n",
    "\n",
    "rules.to_csv(\"models/MBA/rules.csv\",index=False)"
   ]
  }
 ],
 "metadata": {
  "kernelspec": {
   "display_name": "Python 3",
   "language": "python",
   "name": "python3"
  },
  "language_info": {
   "codemirror_mode": {
    "name": "ipython",
    "version": 3
   },
   "file_extension": ".py",
   "mimetype": "text/x-python",
   "name": "python",
   "nbconvert_exporter": "python",
   "pygments_lexer": "ipython3",
   "version": "3.10.0"
  }
 },
 "nbformat": 4,
 "nbformat_minor": 2
}
