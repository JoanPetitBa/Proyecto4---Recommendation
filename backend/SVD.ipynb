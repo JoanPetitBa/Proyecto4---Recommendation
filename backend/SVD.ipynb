{
 "cells": [
  {
   "cell_type": "code",
   "execution_count": 1,
   "metadata": {},
   "outputs": [],
   "source": [
    "import sqlite3\n",
    "import pandas as pd\n",
    "import joblib\n",
    "from surprise import Dataset, Reader, SVD\n",
    "from surprise.model_selection import train_test_split\n",
    "from surprise import accuracy \n",
    "\n",
    "conn = sqlite3.connect(\"db/market_place.db\")\n",
    "cursor = conn.cursor()"
   ]
  },
  {
   "cell_type": "code",
   "execution_count": null,
   "metadata": {},
   "outputs": [
    {
     "name": "stdout",
     "output_type": "stream",
     "text": [
      "\n",
      "Entrenando modelo para el segmento: Ocasional\n",
      "📊 RMSE del modelo del segmento 'Ocasional': 2.3891\n",
      "✅ Modelo guardado: models/SVD/SVD_Ocasional.joblib\n",
      "\n",
      "Entrenando modelo para el segmento: Inactivo\n",
      "📊 RMSE del modelo del segmento 'Inactivo': 1.7306\n",
      "✅ Modelo guardado: models/SVD/SVD_Inactivo.joblib\n",
      "\n",
      "Entrenando modelo para el segmento: Frecuente\n",
      "📊 RMSE del modelo del segmento 'Frecuente': 5.8610\n",
      "✅ Modelo guardado: models/SVD/SVD_Frecuente.joblib\n",
      "\n",
      "📈 Resultados generales por segmento:\n",
      "    segmento      rmse\n",
      "1   Inactivo  1.730642\n",
      "0  Ocasional  2.389075\n",
      "2  Frecuente  5.860992\n"
     ]
    }
   ],
   "source": [
    "# 1. Obtener todos los segmentos únicos\n",
    "segmentos = pd.read_sql_query(\"SELECT DISTINCT segment FROM users\", conn)\n",
    "\n",
    "resultados = []\n",
    "\n",
    "# 2. Entrenar un modelo por segmento\n",
    "for segmento in segmentos['segment']:\n",
    "    print(f\"\\nEntrenando modelo para el segmento: {segmento}\")\n",
    "\n",
    "    # Consultar interacciones usuario-producto\n",
    "    query = f\"\"\"\n",
    "    SELECT o.user_id, o.product_id, COUNT(*) as interaction\n",
    "    FROM orders o\n",
    "    JOIN users u ON o.user_id = u.user_id\n",
    "    WHERE u.segment = '{segmento}'\n",
    "    GROUP BY o.user_id, o.product_id;\n",
    "    \"\"\"\n",
    "    df = pd.read_sql_query(query, conn)\n",
    "\n",
    "    if df.empty or df['user_id'].nunique() < 5:\n",
    "        print(f\"Segmento '{segmento}' con pocos datos. Saltando...\")\n",
    "        continue\n",
    "\n",
    "    # Optimización: Filtrar usuarios y productos con pocas interacciones\n",
    "    df_filtered = df.groupby('user_id').filter(lambda x: len(x) > 5)  # Al menos 5 interacciones por usuario\n",
    "    df_filtered = df_filtered.groupby('product_id').filter(lambda x: len(x) > 5)  # Al menos 5 interacciones por producto\n",
    "\n",
    "    # Configurar datos para Surprise\n",
    "    reader = Reader(rating_scale=(1, 20))\n",
    "    data = Dataset.load_from_df(df[['user_id', 'product_id', 'interaction']], reader)\n",
    "\n",
    "    # Dividir en entrenamiento y prueba\n",
    "    trainset, testset = train_test_split(data, test_size=0.2, random_state=42)\n",
    "\n",
    "    input(trainset)\n",
    "\n",
    "    # Entrenar modelo\n",
    "    model = SVD()\n",
    "    model.fit(trainset)\n",
    "\n",
    "    # Evaluar modelo\n",
    "    predictions = model.test(testset)\n",
    "    rmse = accuracy.rmse(predictions, verbose=False)\n",
    "    print(f\"📊 RMSE del modelo del segmento '{segmento}': {rmse:.4f}\")\n",
    "\n",
    "    # # Guardar modelo\n",
    "    # model_path = f\"models/SVD/SVD_{segmento}.joblib\"\n",
    "    # joblib.dump(model, model_path)\n",
    "    # print(f\"✅ Modelo guardado: {model_path}\")\n",
    "\n",
    "    # Guardar resultados\n",
    "    resultados.append({'segmento': segmento, 'rmse': rmse})\n",
    "\n",
    "# Mostrar resumen de métricas\n",
    "resultados_df = pd.DataFrame(resultados)\n",
    "print(\"\\n📈 Resultados generales por segmento:\")\n",
    "print(resultados_df.sort_values(by=\"rmse\"))"
   ]
  }
 ],
 "metadata": {
  "kernelspec": {
   "display_name": "Python 3",
   "language": "python",
   "name": "python3"
  },
  "language_info": {
   "codemirror_mode": {
    "name": "ipython",
    "version": 3
   },
   "file_extension": ".py",
   "mimetype": "text/x-python",
   "name": "python",
   "nbconvert_exporter": "python",
   "pygments_lexer": "ipython3",
   "version": "3.10.0"
  }
 },
 "nbformat": 4,
 "nbformat_minor": 2
}
